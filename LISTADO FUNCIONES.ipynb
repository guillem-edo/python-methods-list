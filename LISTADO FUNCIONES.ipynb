{
  "cells": [
    {
      "cell_type": "markdown",
      "metadata": {
        "id": "H2ga8EE3wmP9"
      },
      "source": [
        " **TABLA DE FREQUENCIAS DE UNA VARIABLE CATEGÓRICA:**"
      ]
    },
    {
      "cell_type": "code",
      "execution_count": null,
      "metadata": {
        "id": "yVTEBbjVwobF"
      },
      "outputs": [],
      "source": [
        "def frequencia (d,c,dec=2):\n",
        "  tabla = d[c].value_counts()\n",
        "  tabla = pd.DataFrame(tabla)\n",
        "  tabla[\"%\"] = round(100*tabla[c]/len(d),dec)\n",
        "  return tabla"
      ]
    },
    {
      "cell_type": "markdown",
      "metadata": {
        "id": "FVkBY9EjUi2u"
      },
      "source": [
        "**FUNCIÓN DE PORCENTAJE TOTAL DE LA DATA BRUTA Y LIMPIA**"
      ]
    },
    {
      "cell_type": "code",
      "execution_count": null,
      "metadata": {
        "id": "WAWwXJDOUjWM"
      },
      "outputs": [],
      "source": [
        "def cal_porcentaje(v1,v2):\n",
        "  valor = (100*v2) / v1\n",
        "  return valor\n",
        "\n",
        "print(f\"Los {filas_limpias} productos representan un {round(cal_porcentaje(filas_brutas,filas_limpias),2)}%\")"
      ]
    },
    {
      "cell_type": "markdown",
      "metadata": {
        "id": "akB3VR-gI8OF"
      },
      "source": [
        "**DEVUELVE UN DF DONDE ESTEN LAS FILAS QUE TIENEN VALOR MAXIMO EN UNA COLUMNA**"
      ]
    },
    {
      "cell_type": "code",
      "execution_count": null,
      "metadata": {
        "id": "zHG7ySczJMAE"
      },
      "outputs": [],
      "source": [
        "def fun_max (d,c):\n",
        "  maximo = d[c].max()\n",
        "  res = d.loc[d[c]==maximo,:]\n",
        "  return res"
      ]
    },
    {
      "cell_type": "markdown",
      "metadata": {
        "id": "5vp_X-faH5MC"
      },
      "source": [
        "**PORCENTAJE TOTAL DE CUALQUIER COLUMNA Y SUS VALORES**"
      ]
    },
    {
      "cell_type": "code",
      "execution_count": null,
      "metadata": {
        "id": "2FoawESdH5MC"
      },
      "outputs": [],
      "source": [
        "def percent (d,c,dec=2):\n",
        "  total = d[c].count()\n",
        "  for i in d[c].unique():\n",
        "    cnt = d[c][d[c] == i].count()\n",
        "    print(f\"{i} Record en porcentage: {round(cnt/total * 100)}%\")"
      ]
    },
    {
      "cell_type": "markdown",
      "metadata": {
        "id": "M03TBxk8Kmdk"
      },
      "source": [
        "**OUTLIERS**"
      ]
    },
    {
      "cell_type": "code",
      "execution_count": null,
      "metadata": {},
      "outputs": [],
      "source": [
        "#ENCONTRAR CUARTILES\n",
        "\n",
        "def outliers(d,v):\n",
        "    import numpy as np\n",
        "    q3=np.quantile(d[v],0.75)\n",
        "    q1=np.quantile(d[v],0.25)\n",
        "    ric=q3-q1\n",
        "    df_outliers=d.loc[(d[v]>=q3+1.5*ric) | (d[v]<=q1-1.5*ric), : ]\n",
        "    df_limpio=d.loc[(d[v]<q3+1.5*ric) & (d[v]>q1-1.5*ric), : ]\n",
        "    return df_outliers,df_limpio"
      ]
    },
    {
      "cell_type": "code",
      "execution_count": null,
      "metadata": {
        "id": "dBDHvjm_RZmV"
      },
      "outputs": [],
      "source": [
        "# EJEMPLO DE USO CON UNA DATA DE PRACTICA\n",
        "outl,limpio = outliers(df,\"Edad\")"
      ]
    },
    {
      "cell_type": "code",
      "execution_count": null,
      "metadata": {
        "id": "zTjfAkeK7ZFx"
      },
      "outputs": [],
      "source": [
        "# EJEMPLO DE BUCLE\n",
        "# (en una base de datos de \"diabetes\")\n",
        "# donde va a recorrer todas las variables numericas:\n",
        "num = [\"Pregnancies\",\"Glucose\",\"BloodPressure\",\"SkinThickness\",\"Insulin\",\"BMI\",\"DiabetesPedigreeFunction\",\"Age\"]\n",
        "for i in num:\n",
        "    a,b=outliers(df2,i)\n",
        "    df2 = b"
      ]
    },
    {
      "cell_type": "markdown",
      "metadata": {
        "id": "5OVX7ikksL1j"
      },
      "source": [
        "**FUNCIONES GRÁFICOS 1 VARIABLE**"
      ]
    }
  ],
  "metadata": {
    "colab": {
      "provenance": []
    },
    "kernelspec": {
      "display_name": "Python 3",
      "name": "python3"
    },
    "language_info": {
      "name": "python"
    }
  },
  "nbformat": 4,
  "nbformat_minor": 0
}
